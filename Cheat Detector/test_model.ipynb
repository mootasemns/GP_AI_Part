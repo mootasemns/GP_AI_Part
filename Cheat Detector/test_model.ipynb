{
 "cells": [
  {
   "cell_type": "code",
   "execution_count": 2,
   "metadata": {},
   "outputs": [
    {
     "data": {
      "text/plain": [
       "True"
      ]
     },
     "execution_count": 2,
     "metadata": {},
     "output_type": "execute_result"
    }
   ],
   "source": [
    "import torch\n",
    "from torchvision import transforms\n",
    "from PIL import Image\n",
    "import yaml\n",
    "from model import CheatDetectionModel \n",
    "import os\n",
    "from utils import readConfig\n",
    "\n",
    "device = \"cuda\" if torch.cuda.is_available() else \"cpu\"\n",
    "# Load model state dictionary\n",
    "model_path = 'models/best_model.pth'\n",
    "state_dict = torch.load(model_path, map_location=torch.device(device))\n",
    "\n",
    "# Instantiate your model based on the configuration used during training\n",
    "config_file = 'config/model_config.yaml'  \n",
    "config = readConfig(config_file)\n",
    "model = CheatDetectionModel(config['model']['num_classes'])  \n",
    "\n",
    "# Load state dict into the model\n",
    "model.load_state_dict(state_dict)\n",
    "model.eval()  # Set the model to evaluation mode\n",
    "\n",
    "# Define transforms\n",
    "data_transforms = transforms.Compose([\n",
    "    transforms.Resize((640, 640)),\n",
    "    transforms.ToTensor(),\n",
    "    transforms.Normalize(mean=[0.485, 0.456, 0.406],\n",
    "                         std=[0.229, 0.224, 0.225])\n",
    "])\n",
    "\n",
    "# Function to predict class for a single image\n",
    "def predict_image_class(image_path):\n",
    "    image = Image.open(image_path)\n",
    "    image = data_transforms(image)\n",
    "    image = torch.unsqueeze(image, 0)\n",
    "    \n",
    "    with torch.no_grad():\n",
    "        outputs = model(image)\n",
    "        _, predicted = torch.max(outputs, 1)\n",
    "        predicted_class = predicted.item()\n",
    "    \n",
    "    return predicted_class\n",
    "\n",
    "# Example usage\n",
    "if __name__ == \"__main__\":\n",
    "    image_path = 'cat.99.jpg'  # Replace with your actual image path\n",
    "    predicted_class = predict_image_class(image_path)\n",
    "    print(f\"Predicted class: {predicted_class}\")\n"
   ]
  }
 ],
 "metadata": {
  "kernelspec": {
   "display_name": "Python 3",
   "language": "python",
   "name": "python3"
  },
  "language_info": {
   "codemirror_mode": {
    "name": "ipython",
    "version": 3
   },
   "file_extension": ".py",
   "mimetype": "text/x-python",
   "name": "python",
   "nbconvert_exporter": "python",
   "pygments_lexer": "ipython3",
   "version": "3.11.5"
  }
 },
 "nbformat": 4,
 "nbformat_minor": 2
}
